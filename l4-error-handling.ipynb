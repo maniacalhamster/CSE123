{
 "cells": [
  {
   "attachments": {},
   "cell_type": "markdown",
   "metadata": {},
   "source": [
    "# Lecture 3 Overview"
   ]
  },
  {
   "attachments": {},
   "cell_type": "markdown",
   "metadata": {},
   "source": [
    "# Codewords\n",
    "\n",
    "Starting simple: fixed-length bitstring\n",
    "- reduce to n-bit substrings"
   ]
  },
  {
   "attachments": {},
   "cell_type": "markdown",
   "metadata": {},
   "source": [
    "# Hamming Distance\n",
    "\n",
    "Distance between legal codewards\n",
    "- measured in terms of number of bit flips\n",
    "\n",
    "Efficient codes are of uniform Hamming Distance\n",
    "- all codewords are equidistant from their neighbors\n",
    "\n",
    "> Higher hamming distance = stronger error detection. More bits can be flipped and still detected. More complex errors can be detected. Bigger pool of errors that can be detected"
   ]
  },
  {
   "attachments": {},
   "cell_type": "markdown",
   "metadata": {},
   "source": [
    "## 2d + 1 Hamming Distance\n",
    "\n",
    "Can **detect** up to 2d bit flips\n",
    "- nxt codward is always 2d+1 bit flips away\n",
    "- any fewer is guaranteed to land in the middle\n",
    "\n",
    "Can **correct** up to d bit flips\n",
    "- We just move to the closest codeword\n",
    "- Unfortunately, no way to tell how many bit flips\n",
    "  - E.g: 1, or (2d+1)-1?\n",
    "\n",
    "```\n",
    "                            [----  d = 1 ----]\n",
    "C(000000) (000001) (000011) C(000111) (001111) (011111) C(111111)\n",
    "                            [------------- 2d + 1 = 3 ----------]\n",
    "\n",
    "```\n",
    "\n",
    "> Note that detect > correct ALWAYS"
   ]
  },
  {
   "attachments": {},
   "cell_type": "markdown",
   "metadata": {},
   "source": [
    "# Encoding\n",
    "\n",
    "We only send codewords\n",
    "- Non-codewords indicate errors to receiver\n",
    "\n",
    "But we want to **send any set of bitstrings**\n",
    "- need to embed arbitrary input into sequence of codewords\n",
    "- Adding **redundency**: `{TODO: fill in from slides}`"
   ]
  },
  {
   "attachments": {},
   "cell_type": "markdown",
   "metadata": {},
   "source": [
    "## Simple Embedding: **Parity**\n",
    "\n",
    "Essentially Code with Hamming Distance 2\n",
    "- can detect one bit flip (no correction capability)\n",
    "\n",
    "Add extra bit to ensure odd(even) number of ones\n",
    "- Code is 66% efficient (2 data bits for every 3 bits sent)\n",
    "\n",
    "`{TODO: diagram/picture from slides}`\n",
    "\n",
    "> Note: Even parity is simply XOR"
   ]
  },
  {
   "attachments": {},
   "cell_type": "markdown",
   "metadata": {},
   "source": [
    "## Simple Correction: **Voting**\n",
    "\n",
    "Simply send each bit n times (e.g. n = 3)\n",
    "- Code with Hamming distance 3 (d = 1)\n",
    "- Can detect 2 bit flips\n",
    "- Can correct 1 bit flip\n",
    "\n",
    "Straightforward duplcation is extremely inefficient\n",
    "- can be much smarter about this\n",
    "\n",
    "`{TODO: diagram/picture from slides}`"
   ]
  },
  {
   "attachments": {},
   "cell_type": "markdown",
   "metadata": {},
   "source": [
    "# Per-Frame Detection Codes\n",
    "\n",
    "> Per-Bit detection methods are very inefficient. More efficient to do things on the frame level\n",
    "\n",
    "`[ --- Header --- | ------- Payload ------- | - EDC - ]`\n",
    "\n",
    "More efficient: Add an error detection code per frame\n",
    "- Frame is unit of transmission: all or nothing\n",
    "- Computed over the entire frame -- INCLUDING THE HEADER!\n",
    "\n",
    "Receiver checks EDC to make sure frame is valid\n",
    "- if frame fails check, throw it away\n",
    "\n",
    "We *could* use error-correcting codes\n",
    "- But they are less efficient, and not useful if we **expect errors to be rare**\n",
    "- Counter example: wireless comms"
   ]
  },
  {
   "attachments": {},
   "cell_type": "markdown",
   "metadata": {},
   "source": [
    "## Two-Dimentional Parity\n",
    "\n",
    "```\n",
    "  DATA    p\n",
    "  0101001|1\n",
    "D 1101001|0\n",
    "A 1011110|1\n",
    "T 0001110|1\n",
    "A 0110100|1\n",
    "  1011111|0\n",
    "  -------/\n",
    "p 1111011 0\n",
    "\n",
    "```\n",
    "\n",
    "Start w/ normal parity\n",
    "- n data bits, 1 parity bit\n",
    "\n",
    "Do the same across rows\n",
    "- m data bits, 1 parity bit\n",
    "\n",
    "Can detect up to 3 bit errors\n",
    "- Even most 4 bit errors\n",
    "\n",
    "Can correct any 1 bit error\n",
    "- majority of (data) vs (row parity) vs (col parity) for correction"
   ]
  },
  {
   "attachments": {},
   "cell_type": "markdown",
   "metadata": {},
   "source": [
    "# Checksums\n",
    "\n",
    "Simply sum up all of the data in the frame\n",
    "- Transmit that sum as the EDC\n",
    "\n",
    "Extremely lightweight\n",
    "- Easy to compute fast in hardware\n",
    "- Fragile: Hamming Distance of 2\n",
    "  - So can only detect 1 bit errors\n",
    "\n",
    "Also easy to modify if frame is modified in flight\n",
    "- occurs often to packets on the internet\n",
    "\n",
    "IP Packets include a `{TODO: fill in from slides}`"
   ]
  },
  {
   "attachments": {},
   "cell_type": "markdown",
   "metadata": {},
   "source": [
    "## IP 16b Checksum Example\n",
    "\n",
    "1's complement of sum of words (not Bytes)\n",
    "- Final 1's complement means all-zero frame is not valid\n",
    "\n",
    "```\n",
    "u_short cksum(u_short *buf, int count) {\n",
    "    register u_long sum = 0;\n",
    "    while (count--) {\n",
    "        sum += *buf++;\n",
    "        if (sum & 0xFFFF0000) {\n",
    "            /* Carry occurred, so wrap around */\n",
    "            sum &= 0xFFFF;\n",
    "            sum++;\n",
    "        }\n",
    "    }\n",
    "    return ~(sum & 0xFFFF);\n",
    "}\n",
    "```\n",
    "\n",
    "`{TODO: rewatch this explanation in podcast for better understanding}`"
   ]
  },
  {
   "attachments": {},
   "cell_type": "markdown",
   "metadata": {},
   "source": [
    "## Checksum in Hardware\n",
    "\n",
    "```\n",
    ",-[ ]<-[ ]<-[ ]<-[ ]<-[ ]<-[ ]<-[ ]<-[ ]<-(+)<--\n",
    "|                                          ^\n",
    "`------------------------------------------`\n",
    "```\n",
    "\n",
    "Compute checksum in modulo-2 arithmetic\n",
    "- Binary add/sub is simply XOR operation (equiv to vertical parity computation)\n",
    "\n",
    "Need only a word-length shift register and XOR gate\n",
    "- assuming data arrives serially\n",
    "- all registers are intiially 0\n",
    "\n",
    "`{TODO: rewatch the Checksum example in podcast as needed}`\n",
    "- this demo makes sense now but it's easier to explain verbally than in text."
   ]
  },
  {
   "attachments": {},
   "cell_type": "markdown",
   "metadata": {},
   "source": [
    "## From Sums to Remainders\n",
    "\n",
    "Checksums are easy to compute but very FRAGILE\n",
    "- In particular, **BURST** errors are frequently undetected\n",
    "- We'd rathr have aschem that \"smears\" parity\n",
    "\n",
    "Need to remain easy to implement in hardware\n",
    "- so far, Shift reg + XOR gate \n",
    "\n",
    "We'll stick to Modulo-2 arithmetic\n",
    "- Mult/Div are XOR based ass well\n"
   ]
  },
  {
   "attachments": {},
   "cell_type": "markdown",
   "metadata": {},
   "source": [
    "### Modulo-2 Mult/Div\n",
    "\n",
    "Mult:\n",
    "- shift, AND\n",
    "- ADD the rows together\n",
    "\n",
    "Div:\n",
    "- shift, SUB, shift, SUB"
   ]
  },
  {
   "attachments": {},
   "cell_type": "markdown",
   "metadata": {},
   "source": [
    "#### Cyclic Remainder Check\n",
    "\n",
    "Idea is to *divide* the incoming data, D, rather than add\n",
    "- *divisor* is called **generator**, g\n",
    "\n",
    "We can make CRC resilient to k-bit burst errors\n",
    "- Need a generator of k+1 bits\n",
    "\n",
    "Divide $2^kD$ by *g* to get remainder *r*\n",
    "- Remainder is called **frame check sequence**\n",
    "\n",
    "Send $2^kD-r$ (i.e., $2^kD XOR r)\n",
    "\n",
    "`{TODO: copy rest of slides}`\n",
    "\n",
    "`{TODO: rewatch podcast for explanation, it didn't quite stick this time}`"
   ]
  }
 ],
 "metadata": {
  "kernelspec": {
   "display_name": "Python 3",
   "language": "python",
   "name": "python3"
  },
  "language_info": {
   "name": "python",
   "version": "3.10.1 (tags/v3.10.1:2cd268a, Dec  6 2021, 19:10:37) [MSC v.1929 64 bit (AMD64)]"
  },
  "orig_nbformat": 4,
  "vscode": {
   "interpreter": {
    "hash": "40430081c420884bc0c6cacdd19468c594457515a272ed1024804e3b83ddb8db"
   }
  }
 },
 "nbformat": 4,
 "nbformat_minor": 2
}
