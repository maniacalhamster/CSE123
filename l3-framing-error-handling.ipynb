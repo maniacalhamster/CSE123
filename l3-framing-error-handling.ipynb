{
 "cells": [
  {
   "attachments": {},
   "cell_type": "markdown",
   "metadata": {},
   "source": [
    "# Lecture 3 Overview\n",
    "\n",
    "Framing wrap-up\n",
    "- [Sentinel-based framing](#sentinel-based-framing)\n",
    "- Clock-based framing\n",
    "\n",
    "Error handling through redundancy\n",
    "\n",
    "Hamming Distance\n",
    "- When we can DETECT\n",
    "- When we can CORRECT"
   ]
  },
  {
   "attachments": {},
   "cell_type": "markdown",
   "metadata": {},
   "source": [
    "# Project 1 is out\n",
    "\n",
    "Implement simple link layer protocol (Layer 2)\n",
    "\n",
    "**Framing and handling dropped frames**\n",
    "\n",
    "Rationale?\n",
    "- Help understand how NIC work\n",
    "- Link layers change/update frequently. You may be working on one!"
   ]
  },
  {
   "attachments": {},
   "cell_type": "markdown",
   "metadata": {},
   "source": [
    "# What's in a Frame?\n",
    "\n",
    "`[-Header---|-----Payload----------|-Trailer-]`\n",
    "\n",
    "Wraps payload bits up with some additional info\n",
    "- Header: addressing info\n",
    "- Trailer: checksum or CRC (more in next lecture)\n",
    "\n",
    "Basic Unit of Communication\n",
    "- All or nothing (Link delivers either entire frame payload or none)\n",
    "- **Maximum Transmission Unit** (MTU)\n",
    "\n",
    "Some link layers require absense of frames\n",
    "- i.e. **minimum gap** between frames"
   ]
  },
  {
   "attachments": {},
   "cell_type": "markdown",
   "metadata": {},
   "source": [
    "# Identifying Frames\n",
    "\n",
    "First Task: **delineate** frames\n",
    "- Starting/Ending is impo to know\n",
    "- Otherwise, errors from misinterpretation of data stream\n",
    "\n",
    "Methods\n",
    "1. [Fixed length (bits) frames](#fixed-length-frames)\n",
    "\n",
    "- Explicitly delimited frames:\n",
    "  - 2. [Length-based framing](#length-based-framing)\n",
    "  - 3. [Sentinel-based framing](#sentinel-based-framing)\n",
    "\n",
    "4. Fixed duration (seconds) frames"
   ]
  },
  {
   "attachments": {},
   "cell_type": "markdown",
   "metadata": {},
   "source": [
    "## Fixed-Length Frames\n",
    "\n",
    "Easy to manage for receiver\n",
    "- Well understood buffering reqs\n",
    "\n",
    "Introduces inefficiencies for var length payloads\n",
    "- Larger paylods --> **fragmentated** across many frames\n",
    "- May waste bandwidth (for every X bits, you have to send N header bits)\n",
    "- Very COMMON implementation inside switches\n",
    "\n",
    "Requires explicit design tradeoff\n",
    "- ATM uses 53B frames (cells)\n",
    "  - 48 + 5\n",
    "\n",
    "> Asynchronous Transfer Mode (ATM) Phone network, not ATM machine for money\n",
    "\n",
    "> Story time: geopolitical argument over length (france 32, us 64, etc.) resolved by picking the middle (48) haha. No one was happy -- this was in the 80s/90s"
   ]
  },
  {
   "attachments": {},
   "cell_type": "markdown",
   "metadata": {},
   "source": [
    "## Length-Based Framing\n",
    "\n",
    "`[--Start--|-Length-|-----Payload--------]`\n",
    "\n",
    "To avoid overhead, we'd like var length frames\n",
    "- Each frame declares how long it is\n",
    "- Examples:\n",
    "  - DECNet\n",
    "  - DDCMP\n",
    "\n",
    "> N bit length field ==> (header+N+$2^N$) MTU \n",
    "\n",
    "What's the isisue w/ expliciti length field?\n",
    "- Must correctly READ that field (bad if corrupted)\n",
    "  - need to decode WHILE receiving\n",
    "- Still need to identify the beginning...\n",
    "\n",
    "> Issues: underreading/overreading the frame. Will either misinterpret middle of frame as start of next. Or misinterpret next frame as a continuation of this frame"
   ]
  },
  {
   "attachments": {},
   "cell_type": "markdown",
   "metadata": {},
   "source": [
    "## Sentinel-based Framing\n",
    "\n",
    "> Allows for variable length frames by it's own nature\n",
    "\n",
    "Idea: mark start/end of frame w/ special \"market\"\n",
    "- Byte pattern, bit pattern, signal pattern\n",
    "\n",
    "> Means reserved markers CANNOT APPEAR IN DATA\n",
    "\n",
    "Two solution\n",
    "- Special non-data symbol used to convey sentinel\n",
    "  - Impact on efficiency (can't use symbol for data) of code\n",
    "- **Stuffing**\n",
    "  - Dynamically remove marker bit patterns from data stream\n",
    "  - Receiver \"unstuffs\" datastream to reconstruct original data\n",
    "\n"
   ]
  },
  {
   "attachments": {},
   "cell_type": "markdown",
   "metadata": {},
   "source": [
    "### Stuffing\n",
    "\n",
    "Insert bytes/bits into datastream to make sure that sentinel (flag) does NOT appear in payload\n",
    "\n",
    "![](images/2023-01-18-10-20-49.png)"
   ]
  },
  {
   "attachments": {},
   "cell_type": "markdown",
   "metadata": {},
   "source": [
    "#### Bit-level Stuffing\n",
    "\n",
    "Avoid sentinel flag bit pattern in payload data\n",
    "- commonly, sentinel flag is a bit pattern `0x7E` (`0111110`)\n",
    "- Invented for SDLC/HDLC (IBM layer 2), now standard pattern\n",
    "\n",
    "Sender: any time FIVE ones appear in outgoing data, insert a zero (results in `0111110`)\n",
    "\n",
    "![stuffed-bits diagram](images/2023-01-18-10-25-29.png)\n",
    "\n",
    "Receiver: any time FIVE ones appear, remove next zero\n",
    "- If there is no zero, there will either be six 1s and a 0 (sentinel)\n",
    "- It declares an error condition!\n",
    "- Note bit pattern that cannot appear is `0x7F` (`01111111`)\n",
    "\n",
    "Worst case efficiency is when you send a lot of `011111` --> you end up transmitting an extra bit for every Byte"
   ]
  },
  {
   "attachments": {},
   "cell_type": "markdown",
   "metadata": {},
   "source": [
    "#### Byte Stuffing\n",
    "\n",
    "Upping sentinel to Byte (character) level\n",
    "- Generally have 2 diff flags, **STX** and **ETX**\n",
    "- Found in:\n",
    "  - PPP\n",
    "  - DDCMP\n",
    "  - BISYNC\n",
    "  - Embedded Systems\n",
    "  - etc.\n",
    "\n",
    "Need to stuff if either appears in payload\n",
    "- prefix byte with special character, **DLE** (data-link escape)\n",
    "- new problem: what if DLE appears in payload?\n",
    "\n",
    "Stuff DLE w/ DLE!\n",
    "- worst case is 50% efficient (sending all DLEs)\n",
    "\n",
    "![escape byte diagram](./images/2023-01-18-10-30-11.png)"
   ]
  },
  {
   "attachments": {},
   "cell_type": "markdown",
   "metadata": {},
   "source": [
    "### Clock signal-based Framing\n",
    "\n",
    "So far, we've based framing on what's on the wire\n",
    "- Any bit errors --> throw off framing (dropped bits)\n",
    "- What happens with missed delimiter? Spurious delimiter?\n",
    "\n",
    "Alterntaive is to base framing on external clock signal\n",
    "- Use some signal to indicate beginning of frame, and wait fixed time until frame ends\n",
    "- SONET (metro optical network) does this, among others\n",
    "\n",
    "Significant engineering tradeoffs\n",
    "- (+) No extra bits in datastream iself\n",
    "- (-) Need a tight clock synch b/w sender/receiver\n",
    "\n",
    "> Optimized for video streaming, not so much for stuff like SSH (not fast/consistently sending bits)"
   ]
  },
  {
   "attachments": {},
   "cell_type": "markdown",
   "metadata": {},
   "source": [
    "##### SONET\n",
    "\n",
    "Synchronous Optical NETwork\n",
    "- historically used to backhaul tele + internet traffic\n",
    "- Engineering goal: reduce delay & buffering\n",
    "\n",
    "All frames take same amt of time\n",
    "- Independent of bitrate\n",
    "- Can have atomic clock at each end of link ==> guarantee sync\n",
    "\n",
    "Each frame still starts with special sentinel bits\n",
    "- Helps sync clocks --> look for periodic signal bits\n",
    "- No need to stuff; signal pattern is unlikely\n",
    "\n",
    "> datastream isn't likely to be periodic"
   ]
  },
  {
   "attachments": {},
   "cell_type": "markdown",
   "metadata": {},
   "source": [
    "#### Things can still go wrong\n",
    "\n",
    "Clock drift --> frame boudnaries get fuzzy\n",
    "- may not have atomic clocks --> can desync\n",
    "- Result: read end of one frame and beginning of next :(\n",
    "\n",
    "What happens if there are bit errors on channel?\n",
    "- Misinterpret clock sync signals (sentinels) as data or vice versa\n",
    "\n",
    "In general, need some way to make sure we're OK\n",
    "- Error detection, and perhaps correction\n",
    "\n",
    "> Cosmic rays from sun --> EM interference on link that causes bit flips"
   ]
  },
  {
   "attachments": {},
   "cell_type": "markdown",
   "metadata": {},
   "source": [
    "# Error Detection\n",
    "\n",
    "Implemented at many layers (end-to-end arg) BUT mainly focused on link-layer techniques today\n",
    "\n",
    "![Error Detection img](images/2023-01-18-10-46-10.png)"
   ]
  },
  {
   "attachments": {},
   "cell_type": "markdown",
   "metadata": {},
   "source": [
    "## Basic Idea\n",
    "\n",
    "Problem: header/payload is not self-verifying\n",
    "- Every bistring is potentially legitimate\n",
    "- Hence, any errors/changes in set of bits = equally legit\n",
    "\n",
    "Solution: reduce set of potential bistrings\n",
    "- not every bistring is allowable\n",
    "- receiving disallowed bistring triggers warning => original its garbled in transit\n",
    "\n",
    "Key question: which bitstrings are allowed?"
   ]
  },
  {
   "attachments": {},
   "cell_type": "markdown",
   "metadata": {},
   "source": [
    "## Codewords\n",
    "\n",
    "Starting simple: fixed-length bitstring\n",
    "- reduce to n-bit substrings"
   ]
  }
 ],
 "metadata": {
  "kernelspec": {
   "display_name": "Python 3",
   "language": "python",
   "name": "python3"
  },
  "language_info": {
   "name": "python",
   "version": "3.10.1 (tags/v3.10.1:2cd268a, Dec  6 2021, 19:10:37) [MSC v.1929 64 bit (AMD64)]"
  },
  "orig_nbformat": 4,
  "vscode": {
   "interpreter": {
    "hash": "40430081c420884bc0c6cacdd19468c594457515a272ed1024804e3b83ddb8db"
   }
  }
 },
 "nbformat": 4,
 "nbformat_minor": 2
}
